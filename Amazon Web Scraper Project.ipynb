{
 "cells": [
  {
   "cell_type": "code",
   "execution_count": 3,
   "id": "22ad37bd",
   "metadata": {},
   "outputs": [],
   "source": [
    "from bs4 import BeautifulSoup\n",
    "import requests\n",
    "import time\n",
    "import datetime\n",
    "\n",
    "import smtplib # this library is for sending e-mails to yourself \n"
   ]
  },
  {
   "cell_type": "code",
   "execution_count": 5,
   "id": "fc105319",
   "metadata": {},
   "outputs": [
    {
     "name": "stdout",
     "output_type": "stream",
     "text": [
      "\n",
      "                    Funny Got Data MIS Data Systems Business Analyst T-Shirt\n",
      "                   \n",
      "\n",
      "\n",
      "                        4.3 out of 5 stars\n",
      "                       \n",
      "\n"
     ]
    }
   ],
   "source": [
    "#connecting to website\n",
    "\n",
    "URL = 'https://www.amazon.com/Funny-Data-Systems-Business-Analyst/dp/B07FNW9FGJ/ref=sr_1_3?dchild=1&keywords=data%2Banalyst%2Btshirt&qid=1626655184&sr=8-3&customId=B0752XJYNL&th=1&customizationToken=MC_Assembly_1%23B0752XJYNL&psc=1'\n",
    "\n",
    "headers = {\"User-Agent\": \"Mozilla/5.0 (Windows NT 10.0; Win64; x64) AppleWebKit/537.36 (KHTML, like Gecko) Chrome/78.0.3904.108 Safari/537.36\", \"Accept-Encoding\":\"gzip, deflate\", \"Accept\":\"text/html,application/xhtml+xml,application/xml;q=0.9,*/*;q=0.8\", \"DNT\":\"1\",\"Connection\":\"close\", \"Upgrade-Insecure-Requests\":\"1\"}\n",
    "\n",
    "page = requests.get(URL, headers = headers)\n",
    "\n",
    "soup1 = BeautifulSoup(page.content, \"html.parser\")\n",
    "\n",
    "soup2 = BeautifulSoup(soup1.prettify(), \"html.parser\")\n",
    "\n",
    "title = soup2.find(id = \"productTitle\").get_text() # get text is how you get the text printed into python\n",
    "ratings = soup2.find(class_ = \"a-icon a-icon-star a-star-4-5 cm-cr-review-stars-spacing-big\").get_text() # did this jawn ON MY OWN\n",
    "print(title) # if u want two things at once manually type print.\n",
    "print(ratings)\n"
   ]
  },
  {
   "cell_type": "code",
   "execution_count": 6,
   "id": "c328f847",
   "metadata": {},
   "outputs": [
    {
     "name": "stdout",
     "output_type": "stream",
     "text": [
      "Funny Got Data MIS Data Systems Business Analyst T-Shirt\n",
      "4.3 out of 5 stars\n"
     ]
    }
   ],
   "source": [
    "title = title.strip()\n",
    "ratings = ratings.strip()\n",
    "\n",
    "print(title)\n",
    "print(ratings)"
   ]
  },
  {
   "cell_type": "code",
   "execution_count": 15,
   "id": "0b66126f",
   "metadata": {},
   "outputs": [
    {
     "name": "stdout",
     "output_type": "stream",
     "text": [
      "2024-06-10\n"
     ]
    }
   ],
   "source": [
    "import datetime\n",
    "\n",
    "today = datetime.date.today()\n",
    "\n",
    "print(today)"
   ]
  },
  {
   "cell_type": "code",
   "execution_count": 16,
   "id": "db537f5d",
   "metadata": {},
   "outputs": [],
   "source": [
    "import csv\n",
    "\n",
    "header = ['Title', 'Rating', 'Date'] # the name of the headers in the excel sheet\n",
    "data = [title, ratings, today] # the data you parsed. \n",
    "\n",
    " #with open('AmazonWebScraperdataset.csv' , 'w', newline = '', encoding = 'UTF8') as f: # w = write \n",
    "    #writer = csv.writer(f) # line here and line above is the CREATION of the CSV.\n",
    "    #writer.writerow(header) # this is the actual creating of the header. \n",
    "    #writer.writerow(data) # Inserting of the data.\n",
    "# newline helps alot when data is inserted.  \n",
    "\n",
    "# ONLY EVER RUN THIS ONE TIME NEVER AGAIN. \n",
    "# JUST COMMENT THIS OUT FOR BEST PRACTICE. \n"
   ]
  },
  {
   "cell_type": "code",
   "execution_count": 22,
   "id": "18e11f31",
   "metadata": {},
   "outputs": [
    {
     "data": {
      "text/html": [
       "<div>\n",
       "<style scoped>\n",
       "    .dataframe tbody tr th:only-of-type {\n",
       "        vertical-align: middle;\n",
       "    }\n",
       "\n",
       "    .dataframe tbody tr th {\n",
       "        vertical-align: top;\n",
       "    }\n",
       "\n",
       "    .dataframe thead th {\n",
       "        text-align: right;\n",
       "    }\n",
       "</style>\n",
       "<table border=\"1\" class=\"dataframe\">\n",
       "  <thead>\n",
       "    <tr style=\"text-align: right;\">\n",
       "      <th></th>\n",
       "      <th>Title</th>\n",
       "      <th>Rating</th>\n",
       "      <th>Date</th>\n",
       "    </tr>\n",
       "  </thead>\n",
       "  <tbody>\n",
       "    <tr>\n",
       "      <th>0</th>\n",
       "      <td>Funny Got Data MIS Data Systems Business Analy...</td>\n",
       "      <td>4.3 out of 5 stars</td>\n",
       "      <td>2024-06-10</td>\n",
       "    </tr>\n",
       "  </tbody>\n",
       "</table>\n",
       "</div>"
      ],
      "text/plain": [
       "                                               Title              Rating  \\\n",
       "0  Funny Got Data MIS Data Systems Business Analy...  4.3 out of 5 stars   \n",
       "\n",
       "         Date  \n",
       "0  2024-06-10  "
      ]
     },
     "execution_count": 22,
     "metadata": {},
     "output_type": "execute_result"
    }
   ],
   "source": [
    "import pandas as pd\n",
    "\n",
    "df = pd.read_csv(r'C:\\Users\\Simon\\AmazonWebScraperdataset.csv')\n",
    "df"
   ]
  },
  {
   "cell_type": "code",
   "execution_count": null,
   "id": "712ab334",
   "metadata": {},
   "outputs": [],
   "source": [
    "#appending data to the CSV\n",
    "\n",
    "with open('AmazonWebScraperdataset.csv' , 'a+', newline = '', encoding = 'UTF8') as f: #a+ to APPEND the data. \n",
    "    writer = csv.writer(f) \n",
    "    writer.writerow(data) \n",
    "# new line is '' where the space is empty and thats where it should write the data. "
   ]
  },
  {
   "cell_type": "code",
   "execution_count": 25,
   "id": "3e1020c9",
   "metadata": {},
   "outputs": [],
   "source": [
    "# everything written above has been put into a function/macro/automation. \n",
    "def check_rating():\n",
    "    URL = 'https://www.amazon.com/Funny-Data-Systems-Business-Analyst/dp/B07FNW9FGJ/ref=sr_1_3?dchild=1&keywords=data%2Banalyst%2Btshirt&qid=1626655184&sr=8-3&customId=B0752XJYNL&th=1&customizationToken=MC_Assembly_1%23B0752XJYNL&psc=1'\n",
    "\n",
    "    headers = {\"User-Agent\": \"Mozilla/5.0 (Windows NT 10.0; Win64; x64) AppleWebKit/537.36 (KHTML, like Gecko) Chrome/78.0.3904.108 Safari/537.36\", \"Accept-Encoding\":\"gzip, deflate\", \"Accept\":\"text/html,application/xhtml+xml,application/xml;q=0.9,*/*;q=0.8\", \"DNT\":\"1\",\"Connection\":\"close\", \"Upgrade-Insecure-Requests\":\"1\"}\n",
    "\n",
    "    page = requests.get(URL, headers = headers)\n",
    "\n",
    "    soup1 = BeautifulSoup(page.content, \"html.parser\")\n",
    "\n",
    "    soup2 = BeautifulSoup(soup1.prettify(), \"html.parser\")\n",
    "\n",
    "    title = soup2.find(id = \"productTitle\").get_text() \n",
    "    \n",
    "    ratings = soup2.find(class_ = \"a-icon a-icon-star a-star-4-5 cm-cr-review-stars-spacing-big\").get_text() \n",
    "\n",
    "    title = title.strip()\n",
    "    ratings = ratings.strip()\n",
    "    \n",
    "    import datetime\n",
    "\n",
    "    today = datetime.date.today()\n",
    "    \n",
    "    header = ['Title', 'Rating', 'Date']\n",
    "    data = [title, ratings, today] \n",
    "    \n",
    "    with open('AmazonWebScraperdataset.csv' , 'a+', newline = '', encoding = 'UTF8') as f: #a+ to APPEND the data. \n",
    "        writer = csv.writer(f) \n",
    "        writer.writerow(data) \n",
    "        \n",
    "        # if(price <14):\n",
    "            #send_mail()"
   ]
  },
  {
   "cell_type": "code",
   "execution_count": 27,
   "id": "b4f890a7",
   "metadata": {},
   "outputs": [
    {
     "ename": "KeyboardInterrupt",
     "evalue": "",
     "output_type": "error",
     "traceback": [
      "\u001b[1;31m---------------------------------------------------------------------------\u001b[0m",
      "\u001b[1;31mKeyboardInterrupt\u001b[0m                         Traceback (most recent call last)",
      "Cell \u001b[1;32mIn[27], line 3\u001b[0m\n\u001b[0;32m      1\u001b[0m \u001b[38;5;28;01mwhile\u001b[39;00m(\u001b[38;5;28;01mTrue\u001b[39;00m):\n\u001b[0;32m      2\u001b[0m     check_rating()\n\u001b[1;32m----> 3\u001b[0m     time\u001b[38;5;241m.\u001b[39msleep(\u001b[38;5;241m5\u001b[39m)\n",
      "\u001b[1;31mKeyboardInterrupt\u001b[0m: "
     ]
    }
   ],
   "source": [
    "while(True):\n",
    "    check_rating()\n",
    "    time.sleep(5)\n",
    "    \n",
    "    \n",
    "# THIS BLOCK OF CODE IS TELLING THIS MACRO TO RUN EVERY 5 SECONDS. \n",
    "#If you wanted this run ONCE a day you'd put 86,400 bc thats how many seconds are in a day."
   ]
  },
  {
   "cell_type": "code",
   "execution_count": 28,
   "id": "99962c52",
   "metadata": {},
   "outputs": [
    {
     "data": {
      "text/html": [
       "<div>\n",
       "<style scoped>\n",
       "    .dataframe tbody tr th:only-of-type {\n",
       "        vertical-align: middle;\n",
       "    }\n",
       "\n",
       "    .dataframe tbody tr th {\n",
       "        vertical-align: top;\n",
       "    }\n",
       "\n",
       "    .dataframe thead th {\n",
       "        text-align: right;\n",
       "    }\n",
       "</style>\n",
       "<table border=\"1\" class=\"dataframe\">\n",
       "  <thead>\n",
       "    <tr style=\"text-align: right;\">\n",
       "      <th></th>\n",
       "      <th>Title</th>\n",
       "      <th>Rating</th>\n",
       "      <th>Date</th>\n",
       "    </tr>\n",
       "  </thead>\n",
       "  <tbody>\n",
       "    <tr>\n",
       "      <th>0</th>\n",
       "      <td>Funny Got Data MIS Data Systems Business Analy...</td>\n",
       "      <td>4.3 out of 5 stars</td>\n",
       "      <td>2024-06-10</td>\n",
       "    </tr>\n",
       "    <tr>\n",
       "      <th>1</th>\n",
       "      <td>Funny Got Data MIS Data Systems Business Analy...</td>\n",
       "      <td>4.3 out of 5 stars</td>\n",
       "      <td>2024-06-10</td>\n",
       "    </tr>\n",
       "    <tr>\n",
       "      <th>2</th>\n",
       "      <td>Funny Got Data MIS Data Systems Business Analy...</td>\n",
       "      <td>4.3 out of 5 stars</td>\n",
       "      <td>2024-06-10</td>\n",
       "    </tr>\n",
       "    <tr>\n",
       "      <th>3</th>\n",
       "      <td>Funny Got Data MIS Data Systems Business Analy...</td>\n",
       "      <td>4.3 out of 5 stars</td>\n",
       "      <td>2024-06-10</td>\n",
       "    </tr>\n",
       "  </tbody>\n",
       "</table>\n",
       "</div>"
      ],
      "text/plain": [
       "                                               Title              Rating  \\\n",
       "0  Funny Got Data MIS Data Systems Business Analy...  4.3 out of 5 stars   \n",
       "1  Funny Got Data MIS Data Systems Business Analy...  4.3 out of 5 stars   \n",
       "2  Funny Got Data MIS Data Systems Business Analy...  4.3 out of 5 stars   \n",
       "3  Funny Got Data MIS Data Systems Business Analy...  4.3 out of 5 stars   \n",
       "\n",
       "         Date  \n",
       "0  2024-06-10  \n",
       "1  2024-06-10  \n",
       "2  2024-06-10  \n",
       "3  2024-06-10  "
      ]
     },
     "execution_count": 28,
     "metadata": {},
     "output_type": "execute_result"
    }
   ],
   "source": [
    "import pandas as pd\n",
    "\n",
    "df = pd.read_csv(r'C:\\Users\\Simon\\AmazonWebScraperdataset.csv')\n",
    "df"
   ]
  },
  {
   "cell_type": "code",
   "execution_count": null,
   "id": "1158030d",
   "metadata": {},
   "outputs": [],
   "source": [
    "#Code to send yourself an e-mail for when the price of an item drops. \n",
    "\n",
    "\n",
    "#def send_mail():\n",
    "    #server = smtplib.SMTP_SSL('smtp.gmail.com',465) # using g-mail server\n",
    "    #server.ehlo()\n",
    "    #server.starttls() <-- Dont unfreeze this one\n",
    "    #server.ehlo()\n",
    "    #server.login('simonaru1@gmail.com','xxxxxxxxxxxxxx') # logging into your account \n",
    "    \n",
    "    #subject = \"The Shirt you want is below $15! Now is your chance to buy!\"\n",
    "    #body = \"Simon, This is the moment we have been waiting for. Now is your chance to pick up the shirt of your dreams. Don't mess it up! Link here: https://www.amazon.com/Funny-Data-Systems-Business-Analyst/dp/B07FNW9FGJ/ref=sr_1_3?dchild=1&keywords=data+analyst+tshirt&qid=1626655184&sr=8-3\"\n",
    "   \n",
    "    #msg = f\"Subject: {subject}\\n\\n{body}\"\n",
    "    \n",
    "    #server.sendmail(\n",
    "        #'Simonaru1@gmail.com',\n",
    "        #msg\n",
    "     \n",
    "    )"
   ]
  }
 ],
 "metadata": {
  "kernelspec": {
   "display_name": "Python 3 (ipykernel)",
   "language": "python",
   "name": "python3"
  },
  "language_info": {
   "codemirror_mode": {
    "name": "ipython",
    "version": 3
   },
   "file_extension": ".py",
   "mimetype": "text/x-python",
   "name": "python",
   "nbconvert_exporter": "python",
   "pygments_lexer": "ipython3",
   "version": "3.11.7"
  }
 },
 "nbformat": 4,
 "nbformat_minor": 5
}
